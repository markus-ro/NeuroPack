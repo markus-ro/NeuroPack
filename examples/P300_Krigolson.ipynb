{
 "cells": [
  {
   "attachments": {},
   "cell_type": "markdown",
   "metadata": {},
   "source": [
    "# P300 Collection as described by Krigolson et al."
   ]
  },
  {
   "attachments": {},
   "cell_type": "markdown",
   "metadata": {},
   "source": [
    "In this notebook you can find a P300 acquisition protocoll based on the one described by Kringolson et al. in their paper \"Choosing MUSE: Validation of a Low-Cost, Portable EEG System for ERP Research\""
   ]
  },
  {
   "attachments": {},
   "cell_type": "markdown",
   "metadata": {},
   "source": [
    "## Code for Experiment"
   ]
  },
  {
   "attachments": {},
   "cell_type": "markdown",
   "metadata": {},
   "source": [
    "### Imports"
   ]
  },
  {
   "cell_type": "code",
   "execution_count": null,
   "metadata": {},
   "outputs": [],
   "source": [
    "import sys\n",
    "sys.path.append(\"../\")\n",
    "\n",
    "# Imports\n",
    "from neuropack.tasks.color_task import ProbabilisticColorTask\n",
    "from neuropack.containers import EEGContainer\n",
    "from neuropack.preprocessing.filters import BaselineCorrectionFilter, BandpassFilter, NotchFilter, ReductionFilter\n",
    "from neuropack.preprocessing import PreprocessingPipeline\n",
    "from neuropack.utils import osum\n",
    "from neuropack.devices import BrainFlowDevice\n",
    "\n",
    "from time import time\n",
    "import os"
   ]
  },
  {
   "attachments": {},
   "cell_type": "markdown",
   "metadata": {},
   "source": [
    "### Creating data class, device, and filtering pipeline"
   ]
  },
  {
   "cell_type": "code",
   "execution_count": null,
   "metadata": {},
   "outputs": [],
   "source": [
    "# Setup everything\n",
    "muse_device = BrainFlowDevice.CreateMuse2Device()\n",
    "eeg_container = EEGContainer(muse_device.channel_names, muse_device.sample_rate)\n",
    "\n",
    "pipeline = PreprocessingPipeline()\n",
    "pipeline.add_filter(NotchFilter())\n",
    "pipeline.add_filter(BandpassFilter())\n",
    "pipeline.add_filter(BaselineCorrectionFilter())\n",
    "pipeline.add_filter(ReductionFilter(\"TP9\", \"TP10\"))"
   ]
  },
  {
   "cell_type": "code",
   "execution_count": null,
   "metadata": {},
   "outputs": [],
   "source": [
    "# connect the Muse\n",
    "muse_device.connect()"
   ]
  },
  {
   "attachments": {},
   "cell_type": "markdown",
   "metadata": {},
   "source": [
    "### Setup task as based on task described by Krigolson et al."
   ]
  },
  {
   "cell_type": "code",
   "execution_count": null,
   "metadata": {},
   "outputs": [],
   "source": [
    "target_color = \"blue\"\n",
    "non_target_color = \"green\"\n",
    "task = ProbabilisticColorTask(0.25, non_target_color, target_color, (800, 1200), inter_stim_time=(300, 500))"
   ]
  },
  {
   "attachments": {},
   "cell_type": "markdown",
   "metadata": {},
   "source": [
    "### Experiment"
   ]
  },
  {
   "cell_type": "code",
   "execution_count": null,
   "metadata": {},
   "outputs": [],
   "source": [
    "# Parameters\n",
    "exp_duration_s = 30\n",
    "output_filename = None"
   ]
  },
  {
   "cell_type": "code",
   "execution_count": null,
   "metadata": {},
   "outputs": [],
   "source": [
    "# Setup datastructures needed for recording\n",
    "eeg_container = EEGContainer(muse_device.channel_names, muse_device.sample_rate)\n",
    "start = time()\n",
    "times = []\n",
    "\n",
    "\n",
    "# Start everything\n",
    "muse_device.start_stream()\n",
    "task.start()\n",
    "\n",
    "# Main loop to collect device data. Do nothing else here to ensure all data is gathered\n",
    "# and no data is lost to ringbuffer.\n",
    "while time() - start < exp_duration_s:\n",
    "    if muse_device.has_data():\n",
    "        eeg_container.add_data(muse_device.fetch_data())\n",
    "stop_time = time()\n",
    "muse_device.stop_stream()\n",
    "\n",
    "\n",
    "# After we have collected sufficient data, also gather data from event to figure out\n",
    "# when stimuli were presented.\n",
    "task_times = []\n",
    "while task.has_data():\n",
    "    t = task.fetch_data()\n",
    "    if t.timestamp > stop_time:\n",
    "        break\n",
    "    task_times.append(t)\n",
    "task.stop()"
   ]
  },
  {
   "cell_type": "code",
   "execution_count": null,
   "metadata": {},
   "outputs": [],
   "source": [
    "# Only get tasks which where stimuli\n",
    "task_times = [x.timestamp for x in task_times if x.is_target]\n",
    "\n",
    "# Add events to the EEG container\n",
    "for x in task_times:\n",
    "   eeg_container.mark_event(1, x) \n",
    "\n",
    "task_events = eeg_container.get_events(1, 100, 800)\n",
    "\n",
    "# Remove events which are to close to the start or end of the recording\n",
    "while len(task_events[-1]) != len(task_events[0]):\n",
    "    task_events.pop()"
   ]
  },
  {
   "attachments": {},
   "cell_type": "markdown",
   "metadata": {},
   "source": [
    "### Preprocessing and plotting"
   ]
  },
  {
   "cell_type": "code",
   "execution_count": null,
   "metadata": {},
   "outputs": [
    {
     "name": "stderr",
     "output_type": "stream",
     "text": [
      "[2023-05-25 23:58:55.956] [board_logger] [error] failed to unsubscribe for 0000fe8d-0000-1000-8000-00805f9b34fb 273e0009-4c4d-454d-96be-f03bac821358\n",
      "[2023-05-25 23:58:55.957] [board_logger] [error] failed to unsubscribe for 0000fe8d-0000-1000-8000-00805f9b34fb 273e000a-4c4d-454d-96be-f03bac821358\n",
      "[2023-05-25 23:58:55.958] [board_logger] [error] failed to unsubscribe for 0000fe8d-0000-1000-8000-00805f9b34fb 273e0003-4c4d-454d-96be-f03bac821358\n",
      "[2023-05-25 23:58:55.960] [board_logger] [error] failed to unsubscribe for 0000fe8d-0000-1000-8000-00805f9b34fb 273e0004-4c4d-454d-96be-f03bac821358\n",
      "[2023-05-25 23:58:55.961] [board_logger] [error] failed to unsubscribe for 0000fe8d-0000-1000-8000-00805f9b34fb 273e0005-4c4d-454d-96be-f03bac821358\n",
      "[2023-05-25 23:58:55.962] [board_logger] [error] failed to unsubscribe for 0000fe8d-0000-1000-8000-00805f9b34fb 273e0006-4c4d-454d-96be-f03bac821358\n",
      "[2023-05-25 23:58:55.963] [board_logger] [error] failed to unsubscribe for 0000fe8d-0000-1000-8000-00805f9b34fb 273e0007-4c4d-454d-96be-f03bac821358\n",
      "[2023-05-25 23:58:55.964] [board_logger] [error] failed to unsubscribe for 0000fe8d-0000-1000-8000-00805f9b34fb 273e000f-4c4d-454d-96be-f03bac821358\n",
      "[2023-05-25 23:58:55.965] [board_logger] [error] failed to unsubscribe for 0000fe8d-0000-1000-8000-00805f9b34fb 273e0010-4c4d-454d-96be-f03bac821358\n",
      "[2023-05-25 23:58:57.966] [board_logger] [error] failed to unsubscribe for 0000fe8d-0000-1000-8000-00805f9b34fb 273e0009-4c4d-454d-96be-f03bac821358\n",
      "[2023-05-25 23:58:57.968] [board_logger] [error] failed to unsubscribe for 0000fe8d-0000-1000-8000-00805f9b34fb 273e000a-4c4d-454d-96be-f03bac821358\n",
      "[2023-05-25 23:58:57.969] [board_logger] [error] failed to unsubscribe for 0000fe8d-0000-1000-8000-00805f9b34fb 273e0003-4c4d-454d-96be-f03bac821358\n",
      "[2023-05-25 23:58:57.970] [board_logger] [error] failed to unsubscribe for 0000fe8d-0000-1000-8000-00805f9b34fb 273e0004-4c4d-454d-96be-f03bac821358\n",
      "[2023-05-25 23:58:57.971] [board_logger] [error] failed to unsubscribe for 0000fe8d-0000-1000-8000-00805f9b34fb 273e0005-4c4d-454d-96be-f03bac821358\n",
      "[2023-05-25 23:58:57.972] [board_logger] [error] failed to unsubscribe for 0000fe8d-0000-1000-8000-00805f9b34fb 273e0006-4c4d-454d-96be-f03bac821358\n",
      "[2023-05-25 23:58:57.973] [board_logger] [error] failed to unsubscribe for 0000fe8d-0000-1000-8000-00805f9b34fb 273e0007-4c4d-454d-96be-f03bac821358\n",
      "[2023-05-25 23:58:57.974] [board_logger] [error] failed to unsubscribe for 0000fe8d-0000-1000-8000-00805f9b34fb 273e000f-4c4d-454d-96be-f03bac821358\n",
      "[2023-05-25 23:58:57.975] [board_logger] [error] failed to unsubscribe for 0000fe8d-0000-1000-8000-00805f9b34fb 273e0010-4c4d-454d-96be-f03bac821358\n"
     ]
    }
   ],
   "source": [
    "pipeline.apply(task_events)\n",
    "avg_event = osum(task_events) / len(task_events)\n",
    "\n",
    "avg_event.plot_ch()"
   ]
  },
  {
   "attachments": {},
   "cell_type": "markdown",
   "metadata": {},
   "source": [
    "### Saving EEG recording"
   ]
  },
  {
   "cell_type": "code",
   "execution_count": null,
   "metadata": {},
   "outputs": [],
   "source": [
    "file_name = \"my_data.csv\"\n",
    "eeg_container.save_signals(os.path.join(\"rec\", file_name))"
   ]
  },
  {
   "attachments": {},
   "cell_type": "markdown",
   "metadata": {},
   "source": [
    "## References"
   ]
  },
  {
   "attachments": {},
   "cell_type": "markdown",
   "metadata": {},
   "source": [
    "[1] O. E. Krigolson, C. C. Williams, A. Norton, C. D. Hassall, and F. L. Colino, “Choosing MUSE: Validation of a Low-Cost, Portable EEG System for ERP Research,” Front. Neurosci., vol. 11, Mar. 2017, doi: 10.3389/fnins.2017.00109.\n"
   ]
  }
 ],
 "metadata": {
  "kernelspec": {
   "display_name": "env",
   "language": "python",
   "name": "python3"
  },
  "language_info": {
   "codemirror_mode": {
    "name": "ipython",
    "version": 3
   },
   "file_extension": ".py",
   "mimetype": "text/x-python",
   "name": "python",
   "nbconvert_exporter": "python",
   "pygments_lexer": "ipython3",
   "version": "3.10.6"
  },
  "orig_nbformat": 4,
  "vscode": {
   "interpreter": {
    "hash": "b3fb885fe72bbf670af5c558f3c5590526456c78d97b2bcc03bf63e5dd2f797b"
   }
  }
 },
 "nbformat": 4,
 "nbformat_minor": 2
}
