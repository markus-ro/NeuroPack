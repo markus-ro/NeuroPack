{
 "cells": [
  {
   "attachments": {},
   "cell_type": "markdown",
   "metadata": {},
   "source": [
    "# Demo for all Acquistion Tasks contained within NeuroPack"
   ]
  },
  {
   "attachments": {},
   "cell_type": "markdown",
   "metadata": {},
   "source": [
    "This notebook contains demos for all acquisition tasks contained within NeuroPack. Each task is presented in both a probailistic and non-probabilisitic version. Further, each task is run for ten seconds."
   ]
  },
  {
   "cell_type": "code",
   "execution_count": 1,
   "metadata": {},
   "outputs": [],
   "source": [
    "# Initial Imports\n",
    "import sys\n",
    "from os import listdir\n",
    "from os.path import join\n",
    "from time import time\n",
    "sys.path.append(\"../\")\n",
    "\n",
    "BASE_DATA_DIR = \"data\"\n",
    "\n",
    "def run_task(task, t):\n",
    "    \"\"\"Run task for t seconds.\n",
    "\n",
    "    :param task: Task to run.\n",
    "    :type task: BaseTask\n",
    "    :param t: Time to run task.\n",
    "    :type t: float\n",
    "    \"\"\"\n",
    "    task.start()\n",
    "    start = time()\n",
    "    \n",
    "    # Run task for t seconds\n",
    "    while time() - start < t:\n",
    "        if task.has_data():\n",
    "            print(task.fetch_data())\n",
    "        \n",
    "        if not task.is_alive():\n",
    "            print(\"Tasked has stopped working\")\n",
    "            break\n",
    "\n",
    "    task.stop()"
   ]
  },
  {
   "attachments": {},
   "cell_type": "markdown",
   "metadata": {},
   "source": [
    "# Audio Tasks"
   ]
  },
  {
   "cell_type": "code",
   "execution_count": 2,
   "metadata": {},
   "outputs": [],
   "source": [
    "# Setup\n",
    "from neuropack.tasks import AudioTask, ProbabilisticAudioTask, PersistentAudioTask, PersistentProbabilisticAudioTask\n",
    "\n",
    "target_sound = join(BASE_DATA_DIR, \"target.wav\")\n",
    "nontarget_sound = join(BASE_DATA_DIR, \"non_target.wav\")"
   ]
  },
  {
   "attachments": {},
   "cell_type": "markdown",
   "metadata": {},
   "source": [
    "### Tasks"
   ]
  },
  {
   "cell_type": "code",
   "execution_count": 3,
   "metadata": {},
   "outputs": [
    {
     "name": "stderr",
     "output_type": "stream",
     "text": [
      "libva info: VA-API version 1.14.0\n",
      "libva info: Trying to open /usr/lib/x86_64-linux-gnu/dri/iHD_drv_video.so\n",
      "libva info: Found init function __vaDriverInit_1_14\n",
      "libva info: va_openDriver() returns 0\n"
     ]
    },
    {
     "name": "stdout",
     "output_type": "stream",
     "text": [
      "StimuliTime(timestamp=1694134422.2043085, is_target=True)\n",
      "StimuliTime(timestamp=1694134423.6525025, is_target=True)\n",
      "StimuliTime(timestamp=1694134425.1017041, is_target=True)\n",
      "StimuliTime(timestamp=1694134427.0463676, is_target=True)\n",
      "StimuliTime(timestamp=1694134428.981248, is_target=True)\n"
     ]
    }
   ],
   "source": [
    "# Create a task in which each target sound is interrupted by at least two and at most three non target sounds.\n",
    "task = AudioTask(2, 3, nontarget_sound, target_sound, 300)\n",
    "run_task(task, 10)"
   ]
  },
  {
   "cell_type": "code",
   "execution_count": null,
   "metadata": {},
   "outputs": [],
   "source": [
    "# Probabilistic Audio Task in which a target sound occurs with a probability of .25 and a non target sound occurs with a probability of .75.\n",
    "task = ProbabilisticAudioTask(0.25, nontarget_sound, target_sound, 300)\n",
    "run_task(task, 10)"
   ]
  },
  {
   "cell_type": "code",
   "execution_count": null,
   "metadata": {},
   "outputs": [],
   "source": [
    "task = PersistentAudioTask(2, 3, nontarget_sound, target_sound, 300)\n",
    "run_task(task, 10)\n",
    "\n",
    "task.only_target_data(False)\n",
    "task.display_gui(False)\n",
    "run_task(task, 10)"
   ]
  },
  {
   "cell_type": "code",
   "execution_count": null,
   "metadata": {},
   "outputs": [],
   "source": [
    "task = PersistentProbabilisticAudioTask(0.25, nontarget_sound, target_sound, 300)\n",
    "run_task(task, 10)\n",
    "\n",
    "task.only_target_data(False)\n",
    "run_task(task, 10)"
   ]
  },
  {
   "attachments": {},
   "cell_type": "markdown",
   "metadata": {},
   "source": [
    "# Color Tasks"
   ]
  },
  {
   "cell_type": "code",
   "execution_count": null,
   "metadata": {},
   "outputs": [],
   "source": [
    "# Setup\n",
    "from neuropack.tasks import ColorTask, ProbabilisticColorTask, PersistentColorTask, PersistentProbabilisticColorTask\n",
    "\n",
    "target_color = \"blue\"\n",
    "nontarget_color = \"green\""
   ]
  },
  {
   "attachments": {},
   "cell_type": "markdown",
   "metadata": {},
   "source": [
    "### Tasks"
   ]
  },
  {
   "cell_type": "code",
   "execution_count": null,
   "metadata": {},
   "outputs": [],
   "source": [
    "# Standard color task\n",
    "task = ColorTask(2, 3, nontarget_color, target_color, 300)\n",
    "run_task(task, 10)"
   ]
  },
  {
   "cell_type": "code",
   "execution_count": null,
   "metadata": {},
   "outputs": [],
   "source": [
    "# Probabilistic color task\n",
    "task = ProbabilisticColorTask(0.25, nontarget_color, target_color, 300)\n",
    "run_task(task, 10)"
   ]
  },
  {
   "cell_type": "code",
   "execution_count": null,
   "metadata": {},
   "outputs": [],
   "source": [
    "# Persistent color task can be resued. All other functions are the same.\n",
    "task = PersistentColorTask(2, 3, nontarget_color, target_color, 300)\n",
    "run_task(task, 10)\n",
    "\n",
    "print(\"Only target data false\")\n",
    "task.only_target_data(False)\n",
    "run_task(task, 10)"
   ]
  },
  {
   "cell_type": "code",
   "execution_count": null,
   "metadata": {},
   "outputs": [],
   "source": [
    "# Can also be created using chance\n",
    "task = PersistentProbabilisticColorTask(0.25, nontarget_color, target_color, 300)\n",
    "run_task(task, 10)\n",
    "\n",
    "print(\"Only target data false\")\n",
    "task.only_target_data(False)\n",
    "run_task(task, 10)"
   ]
  },
  {
   "attachments": {},
   "cell_type": "markdown",
   "metadata": {},
   "source": [
    "# Image Tasks"
   ]
  },
  {
   "cell_type": "code",
   "execution_count": 4,
   "metadata": {},
   "outputs": [
    {
     "ename": "TypeError",
     "evalue": "expected str, bytes or os.PathLike object, not NoneType",
     "output_type": "error",
     "traceback": [
      "\u001b[0;31m---------------------------------------------------------------------------\u001b[0m",
      "\u001b[0;31mTypeError\u001b[0m                                 Traceback (most recent call last)",
      "Cell \u001b[0;32mIn[4], line 18\u001b[0m\n\u001b[1;32m     15\u001b[0m target_images \u001b[39m=\u001b[39m \u001b[39mNone\u001b[39;00m\n\u001b[1;32m     17\u001b[0m \u001b[39m# Target images are automatically filtered out. Therefore we can take all images in the directory as nontarget images.\u001b[39;00m\n\u001b[0;32m---> 18\u001b[0m nontarget_images \u001b[39m=\u001b[39m [join(img_data_dir, x) \u001b[39mfor\u001b[39;00m x \u001b[39min\u001b[39;00m listdir(img_data_dir)]\n\u001b[1;32m     20\u001b[0m \u001b[39mif\u001b[39;00m \u001b[39mnot\u001b[39;00m img_data_dir:\n\u001b[1;32m     21\u001b[0m     \u001b[39mraise\u001b[39;00m \u001b[39mValueError\u001b[39;00m(\u001b[39m\"\u001b[39m\u001b[39mPlease specify the path to the image data directory.\u001b[39m\u001b[39m\"\u001b[39m)\n",
      "Cell \u001b[0;32mIn[4], line 18\u001b[0m, in \u001b[0;36m<listcomp>\u001b[0;34m(.0)\u001b[0m\n\u001b[1;32m     15\u001b[0m target_images \u001b[39m=\u001b[39m \u001b[39mNone\u001b[39;00m\n\u001b[1;32m     17\u001b[0m \u001b[39m# Target images are automatically filtered out. Therefore we can take all images in the directory as nontarget images.\u001b[39;00m\n\u001b[0;32m---> 18\u001b[0m nontarget_images \u001b[39m=\u001b[39m [join(img_data_dir, x) \u001b[39mfor\u001b[39;00m x \u001b[39min\u001b[39;00m listdir(img_data_dir)]\n\u001b[1;32m     20\u001b[0m \u001b[39mif\u001b[39;00m \u001b[39mnot\u001b[39;00m img_data_dir:\n\u001b[1;32m     21\u001b[0m     \u001b[39mraise\u001b[39;00m \u001b[39mValueError\u001b[39;00m(\u001b[39m\"\u001b[39m\u001b[39mPlease specify the path to the image data directory.\u001b[39m\u001b[39m\"\u001b[39m)\n",
      "File \u001b[0;32m/usr/lib/python3.10/posixpath.py:76\u001b[0m, in \u001b[0;36mjoin\u001b[0;34m(a, *p)\u001b[0m\n\u001b[1;32m     71\u001b[0m \u001b[39mdef\u001b[39;00m \u001b[39mjoin\u001b[39m(a, \u001b[39m*\u001b[39mp):\n\u001b[1;32m     72\u001b[0m \u001b[39m    \u001b[39m\u001b[39m\"\"\"Join two or more pathname components, inserting '/' as needed.\u001b[39;00m\n\u001b[1;32m     73\u001b[0m \u001b[39m    If any component is an absolute path, all previous path components\u001b[39;00m\n\u001b[1;32m     74\u001b[0m \u001b[39m    will be discarded.  An empty last part will result in a path that\u001b[39;00m\n\u001b[1;32m     75\u001b[0m \u001b[39m    ends with a separator.\"\"\"\u001b[39;00m\n\u001b[0;32m---> 76\u001b[0m     a \u001b[39m=\u001b[39m os\u001b[39m.\u001b[39;49mfspath(a)\n\u001b[1;32m     77\u001b[0m     sep \u001b[39m=\u001b[39m _get_sep(a)\n\u001b[1;32m     78\u001b[0m     path \u001b[39m=\u001b[39m a\n",
      "\u001b[0;31mTypeError\u001b[0m: expected str, bytes or os.PathLike object, not NoneType"
     ]
    }
   ],
   "source": [
    "# Setup\n",
    "from neuropack.tasks import ImageTask, ProbabilisticImageTask, MultiImageTask, ProbabilisticMultiImageTask\n",
    "from neuropack.tasks import PersistentImageTask, PersistentProbabilisticImageTask\n",
    "from neuropack.tasks import PersistentMultiImageTask, PersistentProbabilisticMultiImageTask\n",
    "\n",
    "# Fill in the path to the image data directory. Images are expected to be in the .jpg format.\n",
    "# Images should be a reasonable size for loading and in the best case square.\n",
    "# A reasonable amount of images is 10-20, but this might differ from use case to use case.\n",
    "# Generally, images should be different and not too similar. Depending on the actual cognitive task realized, \n",
    "# images might range from simple shapes to complex scenes or faces.\n",
    "img_data_dir = None\n",
    "\n",
    "# Specify one or more target images by supplying a list with the full path to the image(s).\n",
    "# target_images = [join(img_data_dir, \"target.jpg\"), join(img_data_dir, \"target2.jpg\")]\n",
    "target_images = None\n",
    "\n",
    "# Target images are automatically filtered out. Therefore we can take all images in the directory as nontarget images.\n",
    "nontarget_images = [join(img_data_dir, x) for x in listdir(img_data_dir)]"
   ]
  },
  {
   "attachments": {},
   "cell_type": "markdown",
   "metadata": {},
   "source": [
    "### Tasks"
   ]
  },
  {
   "cell_type": "code",
   "execution_count": null,
   "metadata": {},
   "outputs": [],
   "source": [
    "# Single image task. Only stimuli is the cat\n",
    "task = ImageTask(2, 3, 300, nontarget_images, target_images[0])\n",
    "run_task(task, 10)"
   ]
  },
  {
   "cell_type": "code",
   "execution_count": null,
   "metadata": {},
   "outputs": [],
   "source": [
    "# Single image task. Only stimuli is the cat\n",
    "task = ProbabilisticImageTask(0.25, 300, nontarget_images, target_images[0])\n",
    "run_task(task, 10)"
   ]
  },
  {
   "cell_type": "code",
   "execution_count": null,
   "metadata": {},
   "outputs": [],
   "source": [
    "# Persistent single image task\n",
    "task = PersistentImageTask(2, 3, 300, nontarget_images, target_images[0])\n",
    "run_task(task, 10)\n",
    "\n",
    "task.only_target_data(False)\n",
    "run_task(task, 10)"
   ]
  },
  {
   "cell_type": "code",
   "execution_count": null,
   "metadata": {},
   "outputs": [],
   "source": [
    "# Persistent probabilistic single image task\n",
    "task = PersistentProbabilisticImageTask(0.25, 300, nontarget_images, target_images[0])\n",
    "run_task(task, 10)\n",
    "\n",
    "task.only_target_data(False)\n",
    "run_task(task, 10)"
   ]
  },
  {
   "cell_type": "code",
   "execution_count": null,
   "metadata": {},
   "outputs": [],
   "source": [
    "# Multi image task. Stimuli are the cat and the dog\n",
    "task = MultiImageTask(2, 3, 300, nontarget_images, target_images)\n",
    "run_task(task, 10)"
   ]
  },
  {
   "cell_type": "code",
   "execution_count": null,
   "metadata": {},
   "outputs": [],
   "source": [
    "# Multi image task. Stimuli are the cat and the dog\n",
    "task = ProbabilisticMultiImageTask(0.25, 300, nontarget_images, target_images)\n",
    "run_task(task, 10)"
   ]
  },
  {
   "cell_type": "code",
   "execution_count": null,
   "metadata": {},
   "outputs": [],
   "source": [
    "# Persistent multi image task\n",
    "task = PersistentMultiImageTask(2, 3, 300, nontarget_images, target_images)\n",
    "run_task(task, 10)\n",
    "\n",
    "task.only_target_data(False)\n",
    "run_task(task, 10)"
   ]
  },
  {
   "cell_type": "code",
   "execution_count": null,
   "metadata": {},
   "outputs": [],
   "source": [
    "task = PersistentProbabilisticMultiImageTask(0.25, 300, nontarget_images, target_images)\n",
    "run_task(task, 10)\n",
    "\n",
    "task.only_target_data(False)\n",
    "run_task(task, 10)"
   ]
  },
  {
   "attachments": {},
   "cell_type": "markdown",
   "metadata": {},
   "source": [
    "# Symbol Tasks"
   ]
  },
  {
   "cell_type": "code",
   "execution_count": null,
   "metadata": {},
   "outputs": [],
   "source": [
    "# Setup\n",
    "from neuropack.tasks import SymbolTask, ProbabilisticSymbolTask, PersistentSymbolTask, PersistentProbabilisticSymbolTask\n",
    "target_symbol = \"X\"\n",
    "nontarget_symbol = \"O\""
   ]
  },
  {
   "attachments": {},
   "cell_type": "markdown",
   "metadata": {},
   "source": [
    "### Tasks"
   ]
  },
  {
   "cell_type": "code",
   "execution_count": null,
   "metadata": {},
   "outputs": [],
   "source": [
    "task = SymbolTask(2, 3, nontarget_symbol, target_symbol, 300)\n",
    "run_task(task, 10)"
   ]
  },
  {
   "cell_type": "code",
   "execution_count": null,
   "metadata": {},
   "outputs": [],
   "source": [
    "task = ProbabilisticSymbolTask(0.25, nontarget_symbol, target_symbol, 300)\n",
    "run_task(task, 10)"
   ]
  },
  {
   "cell_type": "code",
   "execution_count": null,
   "metadata": {},
   "outputs": [],
   "source": [
    "task = PersistentSymbolTask(2, 3, nontarget_symbol, target_symbol, 300)\n",
    "run_task(task, 10)\n",
    "\n",
    "task.only_target_data(False)\n",
    "run_task(task, 10)"
   ]
  },
  {
   "cell_type": "code",
   "execution_count": null,
   "metadata": {},
   "outputs": [],
   "source": [
    "task = PersistentProbabilisticSymbolTask(0.25, nontarget_symbol, target_symbol, 300)\n",
    "run_task(task, 10)\n",
    "\n",
    "task.only_target_data(False)\n",
    "run_task(task, 10)"
   ]
  },
  {
   "cell_type": "code",
   "execution_count": null,
   "metadata": {},
   "outputs": [],
   "source": []
  }
 ],
 "metadata": {
  "kernelspec": {
   "display_name": "Python 3",
   "language": "python",
   "name": "python3"
  },
  "language_info": {
   "codemirror_mode": {
    "name": "ipython",
    "version": 3
   },
   "file_extension": ".py",
   "mimetype": "text/x-python",
   "name": "python",
   "nbconvert_exporter": "python",
   "pygments_lexer": "ipython3",
   "version": "3.10.6"
  },
  "orig_nbformat": 4
 },
 "nbformat": 4,
 "nbformat_minor": 2
}
